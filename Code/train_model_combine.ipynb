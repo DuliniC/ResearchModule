{
 "cells": [
  {
   "cell_type": "code",
   "execution_count": 1,
   "metadata": {},
   "outputs": [],
   "source": [
    "import numpy as np\n",
    "import os\n",
    "import cv2\n",
    "from sklearn.model_selection import train_test_split\n",
    "from sklearn.metrics import accuracy_score\n",
    "from sklearn.ensemble import RandomForestClassifier\n",
    "from lightgbm import LGBMClassifier\n",
    "import pickle\n",
    "from sklearn.metrics import confusion_matrix\n",
    "from sklearn.metrics import classification_report\n",
    "import face_recognition"
   ]
  },
  {
   "cell_type": "code",
   "execution_count": 1,
   "metadata": {},
   "outputs": [
    {
     "ename": "RuntimeError",
     "evalue": "Unable to open shape_predictor_81_face_landmarks.dat",
     "output_type": "error",
     "traceback": [
      "\u001b[1;31m---------------------------------------------------------------------------\u001b[0m",
      "\u001b[1;31mRuntimeError\u001b[0m                              Traceback (most recent call last)",
      "Cell \u001b[1;32mIn[1], line 2\u001b[0m\n\u001b[0;32m      1\u001b[0m \u001b[39mfrom\u001b[39;00m \u001b[39mface_detection\u001b[39;00m \u001b[39mimport\u001b[39;00m FaceDetector\n\u001b[1;32m----> 2\u001b[0m detector \u001b[39m=\u001b[39m FaceDetector()\n",
      "File \u001b[1;32me:\\Research Model\\Code\\face_detection.py:11\u001b[0m, in \u001b[0;36mFaceDetector.__init__\u001b[1;34m(self)\u001b[0m\n\u001b[0;32m      8\u001b[0m \u001b[39mdef\u001b[39;00m \u001b[39m__init__\u001b[39m(\u001b[39mself\u001b[39m):\n\u001b[0;32m      9\u001b[0m     \u001b[39mself\u001b[39m\u001b[39m.\u001b[39mface_cascade \u001b[39m=\u001b[39m cv2\u001b[39m.\u001b[39mCascadeClassifier(\n\u001b[0;32m     10\u001b[0m         \u001b[39m'\u001b[39m\u001b[39mhaarcascade_frontalface_default.xml\u001b[39m\u001b[39m'\u001b[39m)\n\u001b[1;32m---> 11\u001b[0m     \u001b[39mself\u001b[39m\u001b[39m.\u001b[39mpredictor \u001b[39m=\u001b[39m dlib\u001b[39m.\u001b[39;49mshape_predictor(\n\u001b[0;32m     12\u001b[0m         \u001b[39m\"\u001b[39;49m\u001b[39mshape_predictor_81_face_landmarks.dat\u001b[39;49m\u001b[39m\"\u001b[39;49m)\n",
      "\u001b[1;31mRuntimeError\u001b[0m: Unable to open shape_predictor_81_face_landmarks.dat"
     ]
    }
   ],
   "source": [
    "from face_detection import FaceDetector\n",
    "detector = FaceDetector()"
   ]
  },
  {
   "cell_type": "code",
   "execution_count": null,
   "metadata": {},
   "outputs": [],
   "source": [
    "def load_data(folder_path):\n",
    "    image_paths = []\n",
    "    face_shape_categories = [\"Heart\", \"Oval\", \"Oblong\", \"Round\", \"Square\"]\n",
    "    labels = []\n",
    "    features = []\n",
    "    \n",
    "    for category_index, category in enumerate(face_shape_categories):\n",
    "        category_folder = os.path.join(folder_path, category)\n",
    "        \n",
    "        for image_name in os.listdir(category_folder):\n",
    "            image_path = os.path.join(category_folder, image_name)\n",
    "            dp_extarcted_features = extract_face_features(image_path)\n",
    "\n",
    "            if dp_extarcted_features is not None:\n",
    "                fn_extracted_features = detector.get_measuremet_values(image_path)\n",
    "                image_paths.append(image_path)\n",
    "                combined_f = np.concatenate((dp_extarcted_features, fn_extracted_features))\n",
    "                features.append(combined_f)\n",
    "                labels.append(category_index)\n",
    "\n",
    "    return labels, features\n",
    "\n",
    "def extract_face_features(image_path):\n",
    "    img = cv2.imread(image_path)\n",
    "    rgb_img = cv2.cvtColor(img, cv2.COLOR_BGR2RGB)\n",
    "\n",
    "    face_locations = face_recognition.face_locations(rgb_img)\n",
    "\n",
    "    if len(face_locations) != 0:\n",
    "        extracted_features = face_recognition.face_encodings(rgb_img, known_face_locations=face_locations)[0]\n",
    "        return extracted_features\n"
   ]
  },
  {
   "cell_type": "code",
   "execution_count": null,
   "metadata": {},
   "outputs": [],
   "source": [
    "def train():\n",
    "        current_dir = os.getcwd()\n",
    "        dataset_folder_training = os.path.join(current_dir, 'Dataset2\\\\training_set')\n",
    "\n",
    "        train_labels, train_features = load_data(dataset_folder_training)\n",
    "\n",
    "        X_train, X_val, y_train, y_val = train_test_split(train_features, train_labels, test_size=0.2, random_state=42)\n",
    "        model = LGBMClassifier(n_estimators=100, random_state=42, reg_alpha=0.1, reg_lambda=0.1, max_depth=11)\n",
    "        model.fit(X_train, y_train)\n",
    "\n",
    "        y_train_pred = model.predict(X_train)\n",
    "        y_val_pred = model.predict(X_val)\n",
    "\n",
    "        train_accuracy = accuracy_score(y_train, y_train_pred)\n",
    "        val_accuracy = accuracy_score(y_val, y_val_pred)\n",
    "\n",
    "        print(\"Training Accuracy:\", train_accuracy)\n",
    "        print(\"Validation Accuracy:\", val_accuracy)\n",
    "\n",
    "        dataset_folder_testing = os.path.join(current_dir, 'Dataset2\\\\testing_set')\n",
    "        test_labels, test_features = load_data(dataset_folder_testing)\n",
    "\n",
    "        y_test_pred = model.predict(test_features)\n",
    "        test_accuracy = accuracy_score(test_labels, y_test_pred)\n",
    "        print(\"Testing Accuracy:\", test_accuracy)\n",
    "\n",
    "        report = classification_report(y_val, y_val_pred)\n",
    "        print(report)\n",
    "\n",
    "        # Confusion Matrix\n",
    "        confusion_matrix = confusion_matrix(y_val, y_val_pred)\n",
    "        print(confusion_matrix)\n",
    "\n",
    "        return model\n"
   ]
  },
  {
   "cell_type": "code",
   "execution_count": null,
   "metadata": {},
   "outputs": [],
   "source": [
    "def save_model(model):\n",
    "    with open('model.pkl', \"wb\") as file:\n",
    "        pickle.dump(model, file)\n",
    "\n",
    "def load_model():\n",
    "    with open('model.pkl', \"rb\") as file:\n",
    "       model = pickle.load(file)\n"
   ]
  }
 ],
 "metadata": {
  "kernelspec": {
   "display_name": "Python 3.11.1 64-bit",
   "language": "python",
   "name": "python3"
  },
  "language_info": {
   "codemirror_mode": {
    "name": "ipython",
    "version": 3
   },
   "file_extension": ".py",
   "mimetype": "text/x-python",
   "name": "python",
   "nbconvert_exporter": "python",
   "pygments_lexer": "ipython3",
   "version": "3.11.1"
  },
  "orig_nbformat": 4,
  "vscode": {
   "interpreter": {
    "hash": "1f6a27bcfbe46a917dbd192f4a82657396dda26148bae633192e8d28c70725f1"
   }
  }
 },
 "nbformat": 4,
 "nbformat_minor": 2
}
